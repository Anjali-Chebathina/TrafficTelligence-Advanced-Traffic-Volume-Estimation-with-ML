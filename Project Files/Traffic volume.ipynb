{
  "cells": [
    {
      "cell_type": "markdown",
      "metadata": {
        "id": "c9S2dYp_MeBH"
      },
      "source": [
        "\n",
        "# Data preprocessing\n"
      ]
    },
    {
      "cell_type": "markdown",
      "metadata": {
        "id": "gTthYZURM2W2"
      },
      "source": [
        "Import all necessary libraries"
      ]
    },
    {
      "cell_type": "code",
      "execution_count": 67,
      "metadata": {
        "id": "NzZEdrQaMXkc"
      },
      "outputs": [],
      "source": [
        "import numpy as np\n",
        "import pandas as pd\n",
        "import seaborn as sns\n",
        "import matplotlib.pyplot as plt\n",
        "import sklearn as sk\n",
        "from sklearn import linear_model\n",
        "from sklearn import tree\n",
        "from sklearn import ensemble\n",
        "from sklearn import svm\n",
        "import xgboost\n"
      ]
    },
    {
      "cell_type": "markdown",
      "metadata": {
        "id": "sKjz_eMhNOSs"
      },
      "source": [
        "importing the dataset\n"
      ]
    },
    {
      "cell_type": "code",
      "execution_count": 68,
      "metadata": {
        "id": "z1OoWVuLNSKN"
      },
      "outputs": [],
      "source": [
        "data=pd.read_csv(\"traffic_volume.csv\")"
      ]
    },
    {
      "cell_type": "markdown",
      "metadata": {
        "id": "JP5YWtyAOZlz"
      },
      "source": [
        "analyse the data"
      ]
    },
    {
      "cell_type": "code",
      "execution_count": 69,
      "metadata": {
        "colab": {
          "base_uri": "https://localhost:8080/",
          "height": 206
        },
        "id": "vF50zOQiOd23",
        "outputId": "0da988fc-dde2-4389-cc74-78a341b28fa7"
      },
      "outputs": [
        {
          "data": {
            "text/html": [
              "<div>\n",
              "<style scoped>\n",
              "    .dataframe tbody tr th:only-of-type {\n",
              "        vertical-align: middle;\n",
              "    }\n",
              "\n",
              "    .dataframe tbody tr th {\n",
              "        vertical-align: top;\n",
              "    }\n",
              "\n",
              "    .dataframe thead th {\n",
              "        text-align: right;\n",
              "    }\n",
              "</style>\n",
              "<table border=\"1\" class=\"dataframe\">\n",
              "  <thead>\n",
              "    <tr style=\"text-align: right;\">\n",
              "      <th></th>\n",
              "      <th>holiday</th>\n",
              "      <th>temp</th>\n",
              "      <th>rain</th>\n",
              "      <th>snow</th>\n",
              "      <th>weather</th>\n",
              "      <th>date</th>\n",
              "      <th>Time</th>\n",
              "      <th>traffic_volume</th>\n",
              "    </tr>\n",
              "  </thead>\n",
              "  <tbody>\n",
              "    <tr>\n",
              "      <th>0</th>\n",
              "      <td>Memorial Day</td>\n",
              "      <td>290.00</td>\n",
              "      <td>0.0</td>\n",
              "      <td>0.0</td>\n",
              "      <td>Clear</td>\n",
              "      <td>2012-02-10 00:00:00</td>\n",
              "      <td>15:23:59</td>\n",
              "      <td>5000</td>\n",
              "    </tr>\n",
              "    <tr>\n",
              "      <th>1</th>\n",
              "      <td>New Years Day</td>\n",
              "      <td>291.00</td>\n",
              "      <td>0.0</td>\n",
              "      <td>0.0</td>\n",
              "      <td>Clouds</td>\n",
              "      <td>2012-02-10 00:00:00</td>\n",
              "      <td>01:45:59</td>\n",
              "      <td>5100</td>\n",
              "    </tr>\n",
              "    <tr>\n",
              "      <th>2</th>\n",
              "      <td>Martin Luther King Jr Day</td>\n",
              "      <td>292.00</td>\n",
              "      <td>0.0</td>\n",
              "      <td>0.0</td>\n",
              "      <td>Rain</td>\n",
              "      <td>2012-02-10 00:00:00</td>\n",
              "      <td>06:59:59</td>\n",
              "      <td>5200</td>\n",
              "    </tr>\n",
              "    <tr>\n",
              "      <th>3</th>\n",
              "      <td>Independence Day</td>\n",
              "      <td>288.28</td>\n",
              "      <td>0.0</td>\n",
              "      <td>0.0</td>\n",
              "      <td>Clouds</td>\n",
              "      <td>02-10-2012</td>\n",
              "      <td>09:00:00</td>\n",
              "      <td>5545</td>\n",
              "    </tr>\n",
              "    <tr>\n",
              "      <th>4</th>\n",
              "      <td>New Years Eve</td>\n",
              "      <td>289.36</td>\n",
              "      <td>0.0</td>\n",
              "      <td>0.0</td>\n",
              "      <td>Clouds</td>\n",
              "      <td>02-10-2012</td>\n",
              "      <td>10:00:00</td>\n",
              "      <td>4516</td>\n",
              "    </tr>\n",
              "  </tbody>\n",
              "</table>\n",
              "</div>"
            ],
            "text/plain": [
              "                     holiday    temp  rain  snow weather                 date  \\\n",
              "0               Memorial Day  290.00   0.0   0.0   Clear  2012-02-10 00:00:00   \n",
              "1              New Years Day  291.00   0.0   0.0  Clouds  2012-02-10 00:00:00   \n",
              "2  Martin Luther King Jr Day  292.00   0.0   0.0    Rain  2012-02-10 00:00:00   \n",
              "3           Independence Day  288.28   0.0   0.0  Clouds           02-10-2012   \n",
              "4              New Years Eve  289.36   0.0   0.0  Clouds           02-10-2012   \n",
              "\n",
              "       Time  traffic_volume  \n",
              "0  15:23:59            5000  \n",
              "1  01:45:59            5100  \n",
              "2  06:59:59            5200  \n",
              "3  09:00:00            5545  \n",
              "4  10:00:00            4516  "
            ]
          },
          "execution_count": 69,
          "metadata": {},
          "output_type": "execute_result"
        }
      ],
      "source": [
        "data.head()\n"
      ]
    },
    {
      "cell_type": "code",
      "execution_count": 70,
      "metadata": {
        "colab": {
          "base_uri": "https://localhost:8080/",
          "height": 300
        },
        "id": "erCyX6VwOkZd",
        "outputId": "29533e63-d5ca-4901-ebf2-1c7bbf814f27"
      },
      "outputs": [
        {
          "data": {
            "text/html": [
              "<div>\n",
              "<style scoped>\n",
              "    .dataframe tbody tr th:only-of-type {\n",
              "        vertical-align: middle;\n",
              "    }\n",
              "\n",
              "    .dataframe tbody tr th {\n",
              "        vertical-align: top;\n",
              "    }\n",
              "\n",
              "    .dataframe thead th {\n",
              "        text-align: right;\n",
              "    }\n",
              "</style>\n",
              "<table border=\"1\" class=\"dataframe\">\n",
              "  <thead>\n",
              "    <tr style=\"text-align: right;\">\n",
              "      <th></th>\n",
              "      <th>temp</th>\n",
              "      <th>rain</th>\n",
              "      <th>snow</th>\n",
              "      <th>traffic_volume</th>\n",
              "    </tr>\n",
              "  </thead>\n",
              "  <tbody>\n",
              "    <tr>\n",
              "      <th>count</th>\n",
              "      <td>48154.000000</td>\n",
              "      <td>48205.000000</td>\n",
              "      <td>48195.000000</td>\n",
              "      <td>48207.000000</td>\n",
              "    </tr>\n",
              "    <tr>\n",
              "      <th>mean</th>\n",
              "      <td>281.205961</td>\n",
              "      <td>0.334257</td>\n",
              "      <td>0.000222</td>\n",
              "      <td>3259.932873</td>\n",
              "    </tr>\n",
              "    <tr>\n",
              "      <th>std</th>\n",
              "      <td>13.343485</td>\n",
              "      <td>44.788668</td>\n",
              "      <td>0.008168</td>\n",
              "      <td>1986.851980</td>\n",
              "    </tr>\n",
              "    <tr>\n",
              "      <th>min</th>\n",
              "      <td>0.000000</td>\n",
              "      <td>0.000000</td>\n",
              "      <td>0.000000</td>\n",
              "      <td>0.000000</td>\n",
              "    </tr>\n",
              "    <tr>\n",
              "      <th>25%</th>\n",
              "      <td>272.160000</td>\n",
              "      <td>0.000000</td>\n",
              "      <td>0.000000</td>\n",
              "      <td>1193.000000</td>\n",
              "    </tr>\n",
              "    <tr>\n",
              "      <th>50%</th>\n",
              "      <td>282.460000</td>\n",
              "      <td>0.000000</td>\n",
              "      <td>0.000000</td>\n",
              "      <td>3380.000000</td>\n",
              "    </tr>\n",
              "    <tr>\n",
              "      <th>75%</th>\n",
              "      <td>291.810000</td>\n",
              "      <td>0.000000</td>\n",
              "      <td>0.000000</td>\n",
              "      <td>4933.000000</td>\n",
              "    </tr>\n",
              "    <tr>\n",
              "      <th>max</th>\n",
              "      <td>310.070000</td>\n",
              "      <td>9831.300000</td>\n",
              "      <td>0.510000</td>\n",
              "      <td>7280.000000</td>\n",
              "    </tr>\n",
              "  </tbody>\n",
              "</table>\n",
              "</div>"
            ],
            "text/plain": [
              "               temp          rain          snow  traffic_volume\n",
              "count  48154.000000  48205.000000  48195.000000    48207.000000\n",
              "mean     281.205961      0.334257      0.000222     3259.932873\n",
              "std       13.343485     44.788668      0.008168     1986.851980\n",
              "min        0.000000      0.000000      0.000000        0.000000\n",
              "25%      272.160000      0.000000      0.000000     1193.000000\n",
              "50%      282.460000      0.000000      0.000000     3380.000000\n",
              "75%      291.810000      0.000000      0.000000     4933.000000\n",
              "max      310.070000   9831.300000      0.510000     7280.000000"
            ]
          },
          "execution_count": 70,
          "metadata": {},
          "output_type": "execute_result"
        }
      ],
      "source": [
        "data.describe()"
      ]
    },
    {
      "cell_type": "code",
      "execution_count": 71,
      "metadata": {
        "colab": {
          "base_uri": "https://localhost:8080/"
        },
        "id": "u70oVAZsOnyq",
        "outputId": "6f28c5f9-0a4b-4b16-9fe4-7761bb2301ff"
      },
      "outputs": [
        {
          "name": "stdout",
          "output_type": "stream",
          "text": [
            "<class 'pandas.core.frame.DataFrame'>\n",
            "RangeIndex: 48207 entries, 0 to 48206\n",
            "Data columns (total 8 columns):\n",
            " #   Column          Non-Null Count  Dtype  \n",
            "---  ------          --------------  -----  \n",
            " 0   holiday         48207 non-null  object \n",
            " 1   temp            48154 non-null  float64\n",
            " 2   rain            48205 non-null  float64\n",
            " 3   snow            48195 non-null  float64\n",
            " 4   weather         48158 non-null  object \n",
            " 5   date            48207 non-null  object \n",
            " 6   Time            48207 non-null  object \n",
            " 7   traffic_volume  48207 non-null  int64  \n",
            "dtypes: float64(3), int64(1), object(4)\n",
            "memory usage: 2.9+ MB\n"
          ]
        }
      ],
      "source": [
        "data.info()"
      ]
    },
    {
      "cell_type": "markdown",
      "metadata": {
        "id": "NIQVupv2OxJ4"
      },
      "source": [
        "Handling Missing Values"
      ]
    },
    {
      "cell_type": "code",
      "execution_count": 72,
      "metadata": {
        "colab": {
          "base_uri": "https://localhost:8080/",
          "height": 335
        },
        "id": "lAvX0R5rPfZV",
        "outputId": "45a7410d-ecaa-48be-e046-7b4066f73bef"
      },
      "outputs": [
        {
          "data": {
            "text/plain": [
              "holiday            0\n",
              "temp              53\n",
              "rain               2\n",
              "snow              12\n",
              "weather           49\n",
              "date               0\n",
              "Time               0\n",
              "traffic_volume     0\n",
              "dtype: int64"
            ]
          },
          "execution_count": 72,
          "metadata": {},
          "output_type": "execute_result"
        }
      ],
      "source": [
        "data.isnull().sum()\n"
      ]
    },
    {
      "cell_type": "code",
      "execution_count": 73,
      "metadata": {
        "colab": {
          "base_uri": "https://localhost:8080/"
        },
        "id": "XwBft8J2vzRK",
        "outputId": "275fb9ee-145f-473d-f7c5-0c64a4b2a5a8"
      },
      "outputs": [
        {
          "name": "stdout",
          "output_type": "stream",
          "text": [
            "Counter({'Labor Day': 4539, 'Memorial Day': 4477, 'New Years Day': 4441, 'Washingtons Birthday': 4437, 'New Years Eve': 4365, 'State Fair': 4356, 'Thanksgiving Day': 4344, 'Independence Day': 4333, 'Columbus Day': 4327, 'Veterans Day': 4322, 'Martin Luther King Jr Day': 4260, 'Christmas Day': 6})\n"
          ]
        }
      ],
      "source": [
        "from collections import Counter\n",
        "print(Counter(data['holiday']))\n"
      ]
    },
    {
      "cell_type": "code",
      "execution_count": 79,
      "metadata": {
        "colab": {
          "base_uri": "https://localhost:8080/"
        },
        "id": "2OoVuBEFzNTx",
        "outputId": "38598ae1-72ef-4967-e0e6-1e5e36aa4b8d"
      },
      "outputs": [
        {
          "name": "stdout",
          "output_type": "stream",
          "text": [
            "Counter({'Clouds': 15194, 'Clear': 13384, 'Mist': 5942, 'Rain': 5666, 'Snow': 2875, 'Drizzle': 1818, 'Haze': 1359, 'Thunderstorm': 1033, 'Fog': 912, 'Smoke': 20, 'Squall': 4})\n"
          ]
        }
      ],
      "source": [
        "print(Counter(data['weather']))"
      ]
    },
    {
      "cell_type": "code",
      "execution_count": 80,
      "metadata": {
        "id": "NDtgwICozemc"
      },
      "outputs": [],
      "source": [
        "data['weather']=data['weather'].fillna('Clouds')\n"
      ]
    },
    {
      "cell_type": "code",
      "execution_count": 81,
      "metadata": {
        "id": "RZXDU3ZKPHz0"
      },
      "outputs": [],
      "source": [
        "data['temp']=data['temp'].fillna(data['temp'].mean())"
      ]
    },
    {
      "cell_type": "code",
      "execution_count": 82,
      "metadata": {
        "id": "BQo4QRay0L8D"
      },
      "outputs": [],
      "source": [
        "data['snow']=data['snow'].fillna(data['snow'].mean())"
      ]
    },
    {
      "cell_type": "markdown",
      "metadata": {
        "id": "bXfgOhCiX9BU"
      },
      "source": [
        "#Data Visualisation"
      ]
    },
    {
      "cell_type": "code",
      "execution_count": 83,
      "metadata": {
        "colab": {
          "base_uri": "https://localhost:8080/"
        },
        "id": "CGZcqyuX7mR8",
        "outputId": "8ee5b6d5-7bb7-472b-b512-d9b4c7f6d63d"
      },
      "outputs": [
        {
          "name": "stdout",
          "output_type": "stream",
          "text": [
            "traffic_volume    1.000000\n",
            "temp              0.130070\n",
            "rain              0.004713\n",
            "holiday           0.002490\n",
            "snow              0.000734\n",
            "weather          -0.040035\n",
            "Name: traffic_volume, dtype: float64\n"
          ]
        }
      ],
      "source": [
        "from sklearn.preprocessing import LabelEncoder\n",
        "\n",
        "# Step 0: Remove encoded columns if they already exist\n",
        "data = data.drop(columns=[col for col in data.columns if col in ['holiday_encoded', 'weather_encoded']], errors='ignore')\n",
        "\n",
        "# Step 1: Fill missing values\n",
        "data['holiday'] = data['holiday'].fillna('nan')\n",
        "data['weather'] = data['weather'].fillna('Clouds')\n",
        "\n",
        "# Step 2: Copy and encode into original names\n",
        "data_corr = data.copy()\n",
        "data_corr['holiday'] = LabelEncoder().fit_transform(data_corr['holiday'])\n",
        "data_corr['weather'] = LabelEncoder().fit_transform(data_corr['weather'])\n",
        "\n",
        "# Step 3: Correlation on numeric columns\n",
        "corr = data_corr.select_dtypes(include='number').corr()\n",
        "\n",
        "# Step 4: Show correlation with traffic_volume\n",
        "print(corr['traffic_volume'].sort_values(ascending=False))\n"
      ]
    },
    {
      "cell_type": "code",
      "execution_count": 84,
      "metadata": {
        "colab": {
          "base_uri": "https://localhost:8080/",
          "height": 592
        },
        "id": "qUcjk3NDRBeI",
        "outputId": "c91f5184-913c-494a-d736-0416f3a7e725"
      },
      "outputs": [
        {
          "data": {
            "image/png": "[encoded data removed]",
            "text/plain": [
              "<Figure size 1000x800 with 2 Axes>"
            ]
          },
          "metadata": {},
          "output_type": "display_data"
        }
      ],
      "source": [
        "plt.figure(figsize=(10, 8))\n",
        "sns.heatmap(corr, annot=True, cmap='coolwarm', fmt=\".2f\")\n",
        "plt.title(\"Correlation Heatmap\")\n",
        "plt.show()"
      ]
    },
    {
      "cell_type": "code",
      "execution_count": 85,
      "metadata": {
        "colab": {
          "base_uri": "https://localhost:8080/",
          "height": 679
        },
        "id": "L_m9qHT3XDkp",
        "outputId": "cef7d1cb-cc9d-43b0-f4e2-5f1f91cac645"
      },
      "outputs": [
        {
          "data": {
            "text/plain": [
              "<seaborn.axisgrid.PairGrid at 0x1f8a8a96b90>"
            ]
          },
          "execution_count": 85,
          "metadata": {},
          "output_type": "execute_result"
        },
        {
          "data": {
            "image/png": "[encoded data removed]",
            "text/plain": [
              "<Figure size 1000x1000 with 20 Axes>"
            ]
          },
          "metadata": {},
          "output_type": "display_data"
        }
      ],
      "source": [
        "sns.pairplot(data)"
      ]
    },
    {
      "cell_type": "code",
      "execution_count": 86,
      "metadata": {
        "colab": {
          "base_uri": "https://localhost:8080/",
          "height": 447
        },
        "id": "kDt-8hcZXNOn",
        "outputId": "1560dc71-6b75-4150-fd00-797e84c40607"
      },
      "outputs": [
        {
          "data": {
            "text/plain": [
              "<Axes: >"
            ]
          },
          "execution_count": 86,
          "metadata": {},
          "output_type": "execute_result"
        },
        {
          "data": {
            "image/png": "[encoded data removed]",
            "text/plain": [
              "<Figure size 640x480 with 1 Axes>"
            ]
          },
          "metadata": {},
          "output_type": "display_data"
        }
      ],
      "source": [
        "data.boxplot()"
      ]
    },
    {
      "cell_type": "code",
      "execution_count": 90,
      "metadata": {
        "id": "j8Jza7M79dAe"
      },
      "outputs": [],
      "source": [
        "def cap_outliers_iqr(df, column):\n",
        "    Q1 = df[column].quantile(0.25)\n",
        "    Q3 = df[column].quantile(0.75)\n",
        "    IQR = Q3 - Q1\n",
        "    lower_bound = Q1 - 1.5 * IQR\n",
        "    upper_bound = Q3 + 1.5 * IQR\n",
        "\n",
        "    # Cap the outliers\n",
        "    df[column] = df[column].apply(lambda x: upper_bound if x > upper_bound else (lower_bound if x < lower_bound else x))\n"
      ]
    },
    {
      "cell_type": "code",
      "execution_count": 91,
      "metadata": {
        "id": "yvblBXlv9gIL"
      },
      "outputs": [],
      "source": [
        "columns_with_outliers = ['temp', 'rain', 'snow', 'traffic_volume']\n",
        "\n",
        "for col in columns_with_outliers:\n",
        "    cap_outliers_iqr(data, col)\n"
      ]
    },
    {
      "cell_type": "code",
      "execution_count": 92,
      "metadata": {
        "id": "JQqQcioq993h"
      },
      "outputs": [],
      "source": [
        "import numpy as np\n",
        "data['traffic_volume_log'] = np.log1p(data['traffic_volume'])\n"
      ]
    },
    {
      "cell_type": "code",
      "execution_count": 93,
      "metadata": {
        "colab": {
          "base_uri": "https://localhost:8080/",
          "height": 430
        },
        "id": "zM0bXx249jBJ",
        "outputId": "5a417c35-4fd3-4e74-d10c-40b1abb2ff74"
      },
      "outputs": [
        {
          "data": {
            "image/png": "[encoded data removed]",
            "text/plain": [
              "<Figure size 640x480 with 1 Axes>"
            ]
          },
          "metadata": {},
          "output_type": "display_data"
        }
      ],
      "source": [
        "import matplotlib.pyplot as plt\n",
        "\n",
        "data[columns_with_outliers].boxplot()\n",
        "plt.show()\n"
      ]
    },
    {
      "cell_type": "markdown",
      "metadata": {
        "id": "VoaWwXn9ZMkk"
      },
      "source": [
        "Splitting the Dataset into Dependent and Independent variable\n",
        "\n"
      ]
    },
    {
      "cell_type": "code",
      "execution_count": 94,
      "metadata": {
        "id": "jA-XJ-RHZUmq"
      },
      "outputs": [],
      "source": [
        "y=data['traffic_volume']\n",
        "x=data.drop(columns=['traffic_volume'],axis=1)\n"
      ]
    },
    {
      "cell_type": "markdown",
      "metadata": {
        "id": "OE7nn-9yZWsU"
      },
      "source": [
        "feature scaling\n"
      ]
    },
    {
      "cell_type": "code",
      "execution_count": 95,
      "metadata": {
        "id": "pt4aPQeB_Fa5"
      },
      "outputs": [],
      "source": [
        "from sklearn.model_selection import train_test_split\n",
        "x_train,x_test,y_train,y_test=train_test_split(x,y,test_size=0.2,random_state=0)"
      ]
    },
    {
      "cell_type": "markdown",
      "metadata": {
        "id": "RotlPWg1_pc3"
      },
      "source": [
        "**Model Building**\n",
        "\n",
        "\n",
        "\n"
      ]
    },
    {
      "cell_type": "markdown",
      "metadata": {
        "id": "UCKVlbmO_vlZ"
      },
      "source": [
        "training and testing the model"
      ]
    },
    {
      "cell_type": "code",
      "execution_count": 96,
      "metadata": {
        "id": "pahlM3zE_y-B"
      },
      "outputs": [],
      "source": [
        "from sklearn import linear_model\n",
        "from sklearn import tree\n",
        "from sklearn import ensemble\n",
        "from sklearn import svm\n",
        "import xgboost"
      ]
    },
    {
      "cell_type": "code",
      "execution_count": 97,
      "metadata": {
        "id": "D2JTjVkMAye3"
      },
      "outputs": [],
      "source": [
        "lin_reg=linear_model.LinearRegression()\n",
        "Dtree=tree.DecisionTreeRegressor()\n",
        "rand=ensemble.RandomForestRegressor()\n",
        "svm=svm.SVR()\n",
        "xgb=xgboost.XGBRegressor()"
      ]
    },
    {
      "cell_type": "code",
      "execution_count": 98,
      "metadata": {},
      "outputs": [
        {
          "name": "stdout",
          "output_type": "stream",
          "text": [
            "holiday                object\n",
            "temp                  float64\n",
            "rain                  float64\n",
            "snow                  float64\n",
            "weather                object\n",
            "day                    object\n",
            "month                  object\n",
            "year                   object\n",
            "hours                  object\n",
            "minutes                object\n",
            "seconds                object\n",
            "traffic_volume_log    float64\n",
            "dtype: object\n",
            "                         holiday    temp  rain  snow weather day month  year  \\\n",
            "32829  Martin Luther King Jr Day  281.69   0.0   0.0  Clouds  19    04  2017   \n",
            "7950                Memorial Day  291.86   0.0   0.0   Clear  26    07  2013   \n",
            "41713                 State Fair  258.81   0.0   0.0   Clear  22    02  2018   \n",
            "32999              New Years Eve  290.35   0.0   0.0   Clear  24    04  2017   \n",
            "20717               Veterans Day  261.82   0.0   0.0    Mist  20    01  2016   \n",
            "\n",
            "      hours minutes seconds  traffic_volume_log  \n",
            "32829    00      00      00            6.504288  \n",
            "7950     08      00      00            8.630879  \n",
            "41713    00      00      00            6.270988  \n",
            "32999    11      00      00            8.422663  \n",
            "20717    07      00      00            8.649274  \n"
          ]
        }
      ],
      "source": [
        "\n",
        "print(x_train.dtypes)\n",
        "print(x_train.head())\n"
      ]
    },
    {
      "cell_type": "code",
      "execution_count": 99,
      "metadata": {},
      "outputs": [
        {
          "name": "stdout",
          "output_type": "stream",
          "text": [
            "['Martin Luther King Jr Day' 'Memorial Day' 'State Fair' 'New Years Eve'\n",
            " 'Veterans Day' 'Columbus Day' 'Independence Day' 'Washingtons Birthday'\n",
            " 'Labor Day' 'New Years Day' 'Thanksgiving Day' 'Christmas Day']\n"
          ]
        }
      ],
      "source": [
        "# Check unique values\n",
        "print(x_train['holiday'].unique())\n",
        "\n",
        "# Use pandas get_dummies to encode\n",
        "x_train = pd.get_dummies(x_train, columns=['holiday'])\n",
        "x_test = pd.get_dummies(x_test, columns=['holiday'])\n",
        "\n",
        "# Re-align columns of train and test if needed\n",
        "x_train, x_test = x_train.align(x_test, join='left', axis=1, fill_value=0)\n"
      ]
    },
    {
      "cell_type": "code",
      "execution_count": 100,
      "metadata": {},
      "outputs": [],
      "source": [
        "# Encoding for x_train\n",
        "x_train = pd.get_dummies(x_train, columns=['weather'])\n",
        "\n",
        "# Encoding for x_test as well\n",
        "x_test = pd.get_dummies(x_test, columns=['weather'])\n",
        "\n",
        "# Align columns of train and test to match structure\n",
        "x_train, x_test = x_train.align(x_test, join='left', axis=1, fill_value=0)\n"
      ]
    },
    {
      "cell_type": "code",
      "execution_count": 101,
      "metadata": {},
      "outputs": [],
      "source": [
        "# Convert time-related columns to numeric\n",
        "time_cols = ['day', 'month', 'year', 'hours', 'minutes', 'seconds']\n",
        "\n",
        "for col in time_cols:\n",
        "    x_train[col] = pd.to_numeric(x_train[col], errors='coerce')\n",
        "    x_test[col] = pd.to_numeric(x_test[col], errors='coerce')\n"
      ]
    },
    {
      "cell_type": "code",
      "execution_count": 102,
      "metadata": {},
      "outputs": [],
      "source": [
        "x_train.fillna(0, inplace=True)\n",
        "x_test.fillna(0, inplace=True)\n"
      ]
    },
    {
      "cell_type": "code",
      "execution_count": 103,
      "metadata": {},
      "outputs": [
        {
          "name": "stdout",
          "output_type": "stream",
          "text": [
            "temp                                 float64\n",
            "rain                                 float64\n",
            "snow                                 float64\n",
            "day                                    int64\n",
            "month                                  int64\n",
            "year                                 float64\n",
            "hours                                  int64\n",
            "minutes                                int64\n",
            "seconds                                int64\n",
            "traffic_volume_log                   float64\n",
            "holiday_Christmas Day                   bool\n",
            "holiday_Columbus Day                    bool\n",
            "holiday_Independence Day                bool\n",
            "holiday_Labor Day                       bool\n",
            "holiday_Martin Luther King Jr Day       bool\n",
            "holiday_Memorial Day                    bool\n",
            "holiday_New Years Day                   bool\n",
            "holiday_New Years Eve                   bool\n",
            "holiday_State Fair                      bool\n",
            "holiday_Thanksgiving Day                bool\n",
            "holiday_Veterans Day                    bool\n",
            "holiday_Washingtons Birthday            bool\n",
            "weather_Clear                           bool\n",
            "weather_Clouds                          bool\n",
            "weather_Drizzle                         bool\n",
            "weather_Fog                             bool\n",
            "weather_Haze                            bool\n",
            "weather_Mist                            bool\n",
            "weather_Rain                            bool\n",
            "weather_Smoke                           bool\n",
            "weather_Snow                            bool\n",
            "weather_Squall                          bool\n",
            "weather_Thunderstorm                    bool\n",
            "dtype: object\n"
          ]
        }
      ],
      "source": [
        "print(x_train.dtypes)\n"
      ]
    },
    {
      "cell_type": "code",
      "execution_count": 104,
      "metadata": {
        "colab": {
          "base_uri": "https://localhost:8080/",
          "height": 57
        },
        "id": "f8Mur9x_BCzs",
        "outputId": "81fd878d-6d76-4a03-b9a0-636a96692dd7"
      },
      "outputs": [
        {
          "data": {
            "text/html": [
              "<style>#sk-container-id-2 {\n",
              "  /* Definition of color scheme common for light and dark mode */\n",
              "  --sklearn-color-text: #000;\n",
              "  --sklearn-color-text-muted: #666;\n",
              "  --sklearn-color-line: gray;\n",
              "  /* Definition of color scheme for unfitted estimators */\n",
              "  --sklearn-color-unfitted-level-0: #fff5e6;\n",
              "  --sklearn-color-unfitted-level-1: #f6e4d2;\n",
              "  --sklearn-color-unfitted-level-2: #ffe0b3;\n",
              "  --sklearn-color-unfitted-level-3: chocolate;\n",
              "  /* Definition of color scheme for fitted estimators */\n",
              "  --sklearn-color-fitted-level-0: #f0f8ff;\n",
              "  --sklearn-color-fitted-level-1: #d4ebff;\n",
              "  --sklearn-color-fitted-level-2: #b3dbfd;\n",
              "  --sklearn-color-fitted-level-3: cornflowerblue;\n",
              "\n",
              "  /* Specific color for light theme */\n",
              "  --sklearn-color-text-on-default-background: var(--sg-text-color, var(--theme-code-foreground, var(--jp-content-font-color1, black)));\n",
              "  --sklearn-color-background: var(--sg-background-color, var(--theme-background, var(--jp-layout-color0, white)));\n",
              "  --sklearn-color-border-box: var(--sg-text-color, var(--theme-code-foreground, var(--jp-content-font-color1, black)));\n",
              "  --sklearn-color-icon: #696969;\n",
              "\n",
              "  @media (prefers-color-scheme: dark) {\n",
              "    /* Redefinition of color scheme for dark theme */\n",
              "    --sklearn-color-text-on-default-background: var(--sg-text-color, var(--theme-code-foreground, var(--jp-content-font-color1, white)));\n",
              "    --sklearn-color-background: var(--sg-background-color, var(--theme-background, var(--jp-layout-color0, #111)));\n",
              "    --sklearn-color-border-box: var(--sg-text-color, var(--theme-code-foreground, var(--jp-content-font-color1, white)));\n",
              "    --sklearn-color-icon: #878787;\n",
              "  }\n",
              "}\n",
              "\n",
              "#sk-container-id-2 {\n",
              "  color: var(--sklearn-color-text);\n",
              "}\n",
              "\n",
              "#sk-container-id-2 pre {\n",
              "  padding: 0;\n",
              "}\n",
              "\n",
              "#sk-container-id-2 input.sk-hidden--visually {\n",
              "  border: 0;\n",
              "  clip: rect(1px 1px 1px 1px);\n",
              "  clip: rect(1px, 1px, 1px, 1px);\n",
              "  height: 1px;\n",
              "  margin: -1px;\n",
              "  overflow: hidden;\n",
              "  padding: 0;\n",
              "  position: absolute;\n",
              "  width: 1px;\n",
              "}\n",
              "\n",
              "#sk-container-id-2 div.sk-dashed-wrapped {\n",
              "  border: 1px dashed var(--sklearn-color-line);\n",
              "  margin: 0 0.4em 0.5em 0.4em;\n",
              "  box-sizing: border-box;\n",
              "  padding-bottom: 0.4em;\n",
              "  background-color: var(--sklearn-color-background);\n",
              "}\n",
              "\n",
              "#sk-container-id-2 div.sk-container {\n",
              "  /* jupyter's `normalize.less` sets `[hidden] { display: none; }`\n",
              "     but bootstrap.min.css set `[hidden] { display: none !important; }`\n",
              "     so we also need the `!important` here to be able to override the\n",
              "     default hidden behavior on the sphinx rendered scikit-learn.org.\n",
              "     See: https://github.com/scikit-learn/scikit-learn/issues/21755 */\n",
              "  display: inline-block !important;\n",
              "  position: relative;\n",
              "}\n",
              "\n",
              "#sk-container-id-2 div.sk-text-repr-fallback {\n",
              "  display: none;\n",
              "}\n",
              "\n",
              "div.sk-parallel-item,\n",
              "div.sk-serial,\n",
              "div.sk-item {\n",
              "  /* draw centered vertical line to link estimators */\n",
              "  background-image: linear-gradient(var(--sklearn-color-text-on-default-background), var(--sklearn-color-text-on-default-background));\n",
              "  background-size: 2px 100%;\n",
              "  background-repeat: no-repeat;\n",
              "  background-position: center center;\n",
              "}\n",
              "\n",
              "/* Parallel-specific style estimator block */\n",
              "\n",
              "#sk-container-id-2 div.sk-parallel-item::after {\n",
              "  content: \"\";\n",
              "  width: 100%;\n",
              "  border-bottom: 2px solid var(--sklearn-color-text-on-default-background);\n",
              "  flex-grow: 1;\n",
              "}\n",
              "\n",
              "#sk-container-id-2 div.sk-parallel {\n",
              "  display: flex;\n",
              "  align-items: stretch;\n",
              "  justify-content: center;\n",
              "  background-color: var(--sklearn-color-background);\n",
              "  position: relative;\n",
              "}\n",
              "\n",
              "#sk-container-id-2 div.sk-parallel-item {\n",
              "  display: flex;\n",
              "  flex-direction: column;\n",
              "}\n",
              "\n",
              "#sk-container-id-2 div.sk-parallel-item:first-child::after {\n",
              "  align-self: flex-end;\n",
              "  width: 50%;\n",
              "}\n",
              "\n",
              "#sk-container-id-2 div.sk-parallel-item:last-child::after {\n",
              "  align-self: flex-start;\n",
              "  width: 50%;\n",
              "}\n",
              "\n",
              "#sk-container-id-2 div.sk-parallel-item:only-child::after {\n",
              "  width: 0;\n",
              "}\n",
              "\n",
              "/* Serial-specific style estimator block */\n",
              "\n",
              "#sk-container-id-2 div.sk-serial {\n",
              "  display: flex;\n",
              "  flex-direction: column;\n",
              "  align-items: center;\n",
              "  background-color: var(--sklearn-color-background);\n",
              "  padding-right: 1em;\n",
              "  padding-left: 1em;\n",
              "}\n",
              "\n",
              "\n",
              "/* Toggleable style: style used for estimator/Pipeline/ColumnTransformer box that is\n",
              "clickable and can be expanded/collapsed.\n",
              "- Pipeline and ColumnTransformer use this feature and define the default style\n",
              "- Estimators will overwrite some part of the style using the `sk-estimator` class\n",
              "*/\n",
              "\n",
              "/* Pipeline and ColumnTransformer style (default) */\n",
              "\n",
              "#sk-container-id-2 div.sk-toggleable {\n",
              "  /* Default theme specific background. It is overwritten whether we have a\n",
              "  specific estimator or a Pipeline/ColumnTransformer */\n",
              "  background-color: var(--sklearn-color-background);\n",
              "}\n",
              "\n",
              "/* Toggleable label */\n",
              "#sk-container-id-2 label.sk-toggleable__label {\n",
              "  cursor: pointer;\n",
              "  display: flex;\n",
              "  width: 100%;\n",
              "  margin-bottom: 0;\n",
              "  padding: 0.5em;\n",
              "  box-sizing: border-box;\n",
              "  text-align: center;\n",
              "  align-items: start;\n",
              "  justify-content: space-between;\n",
              "  gap: 0.5em;\n",
              "}\n",
              "\n",
              "#sk-container-id-2 label.sk-toggleable__label .caption {\n",
              "  font-size: 0.6rem;\n",
              "  font-weight: lighter;\n",
              "  color: var(--sklearn-color-text-muted);\n",
              "}\n",
              "\n",
              "#sk-container-id-2 label.sk-toggleable__label-arrow:before {\n",
              "  /* Arrow on the left of the label */\n",
              "  content: \"▸\";\n",
              "  float: left;\n",
              "  margin-right: 0.25em;\n",
              "  color: var(--sklearn-color-icon);\n",
              "}\n",
              "\n",
              "#sk-container-id-2 label.sk-toggleable__label-arrow:hover:before {\n",
              "  color: var(--sklearn-color-text);\n",
              "}\n",
              "\n",
              "/* Toggleable content - dropdown */\n",
              "\n",
              "#sk-container-id-2 div.sk-toggleable__content {\n",
              "  max-height: 0;\n",
              "  max-width: 0;\n",
              "  overflow: hidden;\n",
              "  text-align: left;\n",
              "  /* unfitted */\n",
              "  background-color: var(--sklearn-color-unfitted-level-0);\n",
              "}\n",
              "\n",
              "#sk-container-id-2 div.sk-toggleable__content.fitted {\n",
              "  /* fitted */\n",
              "  background-color: var(--sklearn-color-fitted-level-0);\n",
              "}\n",
              "\n",
              "#sk-container-id-2 div.sk-toggleable__content pre {\n",
              "  margin: 0.2em;\n",
              "  border-radius: 0.25em;\n",
              "  color: var(--sklearn-color-text);\n",
              "  /* unfitted */\n",
              "  background-color: var(--sklearn-color-unfitted-level-0);\n",
              "}\n",
              "\n",
              "#sk-container-id-2 div.sk-toggleable__content.fitted pre {\n",
              "  /* unfitted */\n",
              "  background-color: var(--sklearn-color-fitted-level-0);\n",
              "}\n",
              "\n",
              "#sk-container-id-2 input.sk-toggleable__control:checked~div.sk-toggleable__content {\n",
              "  /* Expand drop-down */\n",
              "  max-height: 200px;\n",
              "  max-width: 100%;\n",
              "  overflow: auto;\n",
              "}\n",
              "\n",
              "#sk-container-id-2 input.sk-toggleable__control:checked~label.sk-toggleable__label-arrow:before {\n",
              "  content: \"▾\";\n",
              "}\n",
              "\n",
              "/* Pipeline/ColumnTransformer-specific style */\n",
              "\n",
              "#sk-container-id-2 div.sk-label input.sk-toggleable__control:checked~label.sk-toggleable__label {\n",
              "  color: var(--sklearn-color-text);\n",
              "  background-color: var(--sklearn-color-unfitted-level-2);\n",
              "}\n",
              "\n",
              "#sk-container-id-2 div.sk-label.fitted input.sk-toggleable__control:checked~label.sk-toggleable__label {\n",
              "  background-color: var(--sklearn-color-fitted-level-2);\n",
              "}\n",
              "\n",
              "/* Estimator-specific style */\n",
              "\n",
              "/* Colorize estimator box */\n",
              "#sk-container-id-2 div.sk-estimator input.sk-toggleable__control:checked~label.sk-toggleable__label {\n",
              "  /* unfitted */\n",
              "  background-color: var(--sklearn-color-unfitted-level-2);\n",
              "}\n",
              "\n",
              "#sk-container-id-2 div.sk-estimator.fitted input.sk-toggleable__control:checked~label.sk-toggleable__label {\n",
              "  /* fitted */\n",
              "  background-color: var(--sklearn-color-fitted-level-2);\n",
              "}\n",
              "\n",
              "#sk-container-id-2 div.sk-label label.sk-toggleable__label,\n",
              "#sk-container-id-2 div.sk-label label {\n",
              "  /* The background is the default theme color */\n",
              "  color: var(--sklearn-color-text-on-default-background);\n",
              "}\n",
              "\n",
              "/* On hover, darken the color of the background */\n",
              "#sk-container-id-2 div.sk-label:hover label.sk-toggleable__label {\n",
              "  color: var(--sklearn-color-text);\n",
              "  background-color: var(--sklearn-color-unfitted-level-2);\n",
              "}\n",
              "\n",
              "/* Label box, darken color on hover, fitted */\n",
              "#sk-container-id-2 div.sk-label.fitted:hover label.sk-toggleable__label.fitted {\n",
              "  color: var(--sklearn-color-text);\n",
              "  background-color: var(--sklearn-color-fitted-level-2);\n",
              "}\n",
              "\n",
              "/* Estimator label */\n",
              "\n",
              "#sk-container-id-2 div.sk-label label {\n",
              "  font-family: monospace;\n",
              "  font-weight: bold;\n",
              "  display: inline-block;\n",
              "  line-height: 1.2em;\n",
              "}\n",
              "\n",
              "#sk-container-id-2 div.sk-label-container {\n",
              "  text-align: center;\n",
              "}\n",
              "\n",
              "/* Estimator-specific */\n",
              "#sk-container-id-2 div.sk-estimator {\n",
              "  font-family: monospace;\n",
              "  border: 1px dotted var(--sklearn-color-border-box);\n",
              "  border-radius: 0.25em;\n",
              "  box-sizing: border-box;\n",
              "  margin-bottom: 0.5em;\n",
              "  /* unfitted */\n",
              "  background-color: var(--sklearn-color-unfitted-level-0);\n",
              "}\n",
              "\n",
              "#sk-container-id-2 div.sk-estimator.fitted {\n",
              "  /* fitted */\n",
              "  background-color: var(--sklearn-color-fitted-level-0);\n",
              "}\n",
              "\n",
              "/* on hover */\n",
              "#sk-container-id-2 div.sk-estimator:hover {\n",
              "  /* unfitted */\n",
              "  background-color: var(--sklearn-color-unfitted-level-2);\n",
              "}\n",
              "\n",
              "#sk-container-id-2 div.sk-estimator.fitted:hover {\n",
              "  /* fitted */\n",
              "  background-color: var(--sklearn-color-fitted-level-2);\n",
              "}\n",
              "\n",
              "/* Specification for estimator info (e.g. \"i\" and \"?\") */\n",
              "\n",
              "/* Common style for \"i\" and \"?\" */\n",
              "\n",
              ".sk-estimator-doc-link,\n",
              "a:link.sk-estimator-doc-link,\n",
              "a:visited.sk-estimator-doc-link {\n",
              "  float: right;\n",
              "  font-size: smaller;\n",
              "  line-height: 1em;\n",
              "  font-family: monospace;\n",
              "  background-color: var(--sklearn-color-background);\n",
              "  border-radius: 1em;\n",
              "  height: 1em;\n",
              "  width: 1em;\n",
              "  text-decoration: none !important;\n",
              "  margin-left: 0.5em;\n",
              "  text-align: center;\n",
              "  /* unfitted */\n",
              "  border: var(--sklearn-color-unfitted-level-1) 1pt solid;\n",
              "  color: var(--sklearn-color-unfitted-level-1);\n",
              "}\n",
              "\n",
              ".sk-estimator-doc-link.fitted,\n",
              "a:link.sk-estimator-doc-link.fitted,\n",
              "a:visited.sk-estimator-doc-link.fitted {\n",
              "  /* fitted */\n",
              "  border: var(--sklearn-color-fitted-level-1) 1pt solid;\n",
              "  color: var(--sklearn-color-fitted-level-1);\n",
              "}\n",
              "\n",
              "/* On hover */\n",
              "div.sk-estimator:hover .sk-estimator-doc-link:hover,\n",
              ".sk-estimator-doc-link:hover,\n",
              "div.sk-label-container:hover .sk-estimator-doc-link:hover,\n",
              ".sk-estimator-doc-link:hover {\n",
              "  /* unfitted */\n",
              "  background-color: var(--sklearn-color-unfitted-level-3);\n",
              "  color: var(--sklearn-color-background);\n",
              "  text-decoration: none;\n",
              "}\n",
              "\n",
              "div.sk-estimator.fitted:hover .sk-estimator-doc-link.fitted:hover,\n",
              ".sk-estimator-doc-link.fitted:hover,\n",
              "div.sk-label-container:hover .sk-estimator-doc-link.fitted:hover,\n",
              ".sk-estimator-doc-link.fitted:hover {\n",
              "  /* fitted */\n",
              "  background-color: var(--sklearn-color-fitted-level-3);\n",
              "  color: var(--sklearn-color-background);\n",
              "  text-decoration: none;\n",
              "}\n",
              "\n",
              "/* Span, style for the box shown on hovering the info icon */\n",
              ".sk-estimator-doc-link span {\n",
              "  display: none;\n",
              "  z-index: 9999;\n",
              "  position: relative;\n",
              "  font-weight: normal;\n",
              "  right: .2ex;\n",
              "  padding: .5ex;\n",
              "  margin: .5ex;\n",
              "  width: min-content;\n",
              "  min-width: 20ex;\n",
              "  max-width: 50ex;\n",
              "  color: var(--sklearn-color-text);\n",
              "  box-shadow: 2pt 2pt 4pt #999;\n",
              "  /* unfitted */\n",
              "  background: var(--sklearn-color-unfitted-level-0);\n",
              "  border: .5pt solid var(--sklearn-color-unfitted-level-3);\n",
              "}\n",
              "\n",
              ".sk-estimator-doc-link.fitted span {\n",
              "  /* fitted */\n",
              "  background: var(--sklearn-color-fitted-level-0);\n",
              "  border: var(--sklearn-color-fitted-level-3);\n",
              "}\n",
              "\n",
              ".sk-estimator-doc-link:hover span {\n",
              "  display: block;\n",
              "}\n",
              "\n",
              "/* \"?\"-specific style due to the `<a>` HTML tag */\n",
              "\n",
              "#sk-container-id-2 a.estimator_doc_link {\n",
              "  float: right;\n",
              "  font-size: 1rem;\n",
              "  line-height: 1em;\n",
              "  font-family: monospace;\n",
              "  background-color: var(--sklearn-color-background);\n",
              "  border-radius: 1rem;\n",
              "  height: 1rem;\n",
              "  width: 1rem;\n",
              "  text-decoration: none;\n",
              "  /* unfitted */\n",
              "  color: var(--sklearn-color-unfitted-level-1);\n",
              "  border: var(--sklearn-color-unfitted-level-1) 1pt solid;\n",
              "}\n",
              "\n",
              "#sk-container-id-2 a.estimator_doc_link.fitted {\n",
              "  /* fitted */\n",
              "  border: var(--sklearn-color-fitted-level-1) 1pt solid;\n",
              "  color: var(--sklearn-color-fitted-level-1);\n",
              "}\n",
              "\n",
              "/* On hover */\n",
              "#sk-container-id-2 a.estimator_doc_link:hover {\n",
              "  /* unfitted */\n",
              "  background-color: var(--sklearn-color-unfitted-level-3);\n",
              "  color: var(--sklearn-color-background);\n",
              "  text-decoration: none;\n",
              "}\n",
              "\n",
              "#sk-container-id-2 a.estimator_doc_link.fitted:hover {\n",
              "  /* fitted */\n",
              "  background-color: var(--sklearn-color-fitted-level-3);\n",
              "}\n",
              "</style><div id=\"sk-container-id-2\" class=\"sk-top-container\"><div class=\"sk-text-repr-fallback\"><pre>XGBRegressor(base_score=None, booster=None, callbacks=None,\n",
              "             colsample_bylevel=None, colsample_bynode=None,\n",
              "             colsample_bytree=None, device=None, early_stopping_rounds=None,\n",
              "             enable_categorical=False, eval_metric=None, feature_types=None,\n",
              "             feature_weights=None, gamma=None, grow_policy=None,\n",
              "             importance_type=None, interaction_constraints=None,\n",
              "             learning_rate=None, max_bin=None, max_cat_threshold=None,\n",
              "             max_cat_to_onehot=None, max_delta_step=None, max_depth=None,\n",
              "             max_leaves=None, min_child_weight=None, missing=nan,\n",
              "             monotone_constraints=None, multi_strategy=None, n_estimators=None,\n",
              "             n_jobs=None, num_parallel_tree=None, ...)</pre><b>In a Jupyter environment, please rerun this cell to show the HTML representation or trust the notebook. <br />On GitHub, the HTML representation is unable to render, please try loading this page with nbviewer.org.</b></div><div class=\"sk-container\" hidden><div class=\"sk-item\"><div class=\"sk-estimator fitted sk-toggleable\"><input class=\"sk-toggleable__control sk-hidden--visually\" id=\"sk-estimator-id-2\" type=\"checkbox\" checked><label for=\"sk-estimator-id-2\" class=\"sk-toggleable__label fitted sk-toggleable__label-arrow\"><div><div>XGBRegressor</div></div><div><a class=\"sk-estimator-doc-link fitted\" rel=\"noreferrer\" target=\"_blank\" href=\"https://xgboost.readthedocs.io/en/release_3.0.0/python/python_api.html#xgboost.XGBRegressor\">?<span>Documentation for XGBRegressor</span></a><span class=\"sk-estimator-doc-link fitted\">i<span>Fitted</span></span></div></label><div class=\"sk-toggleable__content fitted\"><pre>XGBRegressor(base_score=None, booster=None, callbacks=None,\n",
              "             colsample_bylevel=None, colsample_bynode=None,\n",
              "             colsample_bytree=None, device=None, early_stopping_rounds=None,\n",
              "             enable_categorical=False, eval_metric=None, feature_types=None,\n",
              "             feature_weights=None, gamma=None, grow_policy=None,\n",
              "             importance_type=None, interaction_constraints=None,\n",
              "             learning_rate=None, max_bin=None, max_cat_threshold=None,\n",
              "             max_cat_to_onehot=None, max_delta_step=None, max_depth=None,\n",
              "             max_leaves=None, min_child_weight=None, missing=nan,\n",
              "             monotone_constraints=None, multi_strategy=None, n_estimators=None,\n",
              "             n_jobs=None, num_parallel_tree=None, ...)</pre></div> </div></div></div></div>"
            ],
            "text/plain": [
              "XGBRegressor(base_score=None, booster=None, callbacks=None,\n",
              "             colsample_bylevel=None, colsample_bynode=None,\n",
              "             colsample_bytree=None, device=None, early_stopping_rounds=None,\n",
              "             enable_categorical=False, eval_metric=None, feature_types=None,\n",
              "             feature_weights=None, gamma=None, grow_policy=None,\n",
              "             importance_type=None, interaction_constraints=None,\n",
              "             learning_rate=None, max_bin=None, max_cat_threshold=None,\n",
              "             max_cat_to_onehot=None, max_delta_step=None, max_depth=None,\n",
              "             max_leaves=None, min_child_weight=None, missing=nan,\n",
              "             monotone_constraints=None, multi_strategy=None, n_estimators=None,\n",
              "             n_jobs=None, num_parallel_tree=None, ...)"
            ]
          },
          "execution_count": 104,
          "metadata": {},
          "output_type": "execute_result"
        }
      ],
      "source": [
        "lin_reg.fit(x_train,y_train)\n",
        "Dtree.fit(x_train,y_train)\n",
        "rand.fit(x_train,y_train)\n",
        "svm.fit(x_train,y_train)\n",
        "xgb.fit(x_train,y_train)"
      ]
    },
    {
      "cell_type": "code",
      "execution_count": 105,
      "metadata": {
        "id": "Cqmag8miB78h"
      },
      "outputs": [],
      "source": [
        "p1=lin_reg.predict(x_train)\n",
        "p2=Dtree.predict(x_train)\n",
        "p3=rand.predict(x_train)\n",
        "p4=svm.predict(x_train)\n",
        "p5=xgb.predict(x_train)"
      ]
    },
    {
      "cell_type": "markdown",
      "metadata": {
        "id": "YZK3pQnSCuKp"
      },
      "source": [
        "Model Evaluation"
      ]
    },
    {
      "cell_type": "code",
      "execution_count": 106,
      "metadata": {
        "colab": {
          "base_uri": "https://localhost:8080/"
        },
        "id": "-onwCtDNCwVc",
        "outputId": "62a0dfed-9af9-4d6e-e806-b22cdeddd531"
      },
      "outputs": [
        {
          "name": "stdout",
          "output_type": "stream",
          "text": [
            "0.8635543131945604\n",
            "1.0\n",
            "0.9999999933680194\n",
            "-20378709.417836066\n",
            "0.999984860420227\n"
          ]
        }
      ],
      "source": [
        "from sklearn import metrics\n",
        "print(metrics.r2_score(p1,y_train))\n",
        "print(metrics.r2_score(p2,y_train))\n",
        "print(metrics.r2_score(p3,y_train))\n",
        "print(metrics.r2_score(p4,y_train))\n",
        "print(metrics.r2_score(p5,y_train))"
      ]
    },
    {
      "cell_type": "code",
      "execution_count": 107,
      "metadata": {
        "id": "v2LPug9bC-YV"
      },
      "outputs": [],
      "source": [
        "p1=lin_reg.predict(x_test)\n",
        "p2=Dtree.predict(x_test)\n",
        "p3=rand.predict(x_test)\n",
        "p4=svm.predict(x_test)\n",
        "p5=xgb.predict(x_test)"
      ]
    },
    {
      "cell_type": "code",
      "execution_count": 109,
      "metadata": {
        "colab": {
          "base_uri": "https://localhost:8080/"
        },
        "id": "Gwp4mHsoDRSX",
        "outputId": "a17bd741-3722-4fe3-e2f4-8a83e9c43672"
      },
      "outputs": [
        {
          "name": "stdout",
          "output_type": "stream",
          "text": [
            "0.8801415021915173\n",
            "0.9999999217936144\n",
            "0.9999999831833144\n",
            "-0.003053948784563998\n",
            "0.999974250793457\n"
          ]
        }
      ],
      "source": [
        "print(metrics.r2_score(y_test,p1))\n",
        "print(metrics.r2_score(y_test,p2))\n",
        "print(metrics.r2_score(y_test,p3))\n",
        "print(metrics.r2_score(y_test,p4))\n",
        "print(metrics.r2_score(y_test,p5))"
      ]
    },
    {
      "cell_type": "code",
      "execution_count": 110,
      "metadata": {
        "colab": {
          "base_uri": "https://localhost:8080/"
        },
        "id": "Q_a1eVXqF2Hi",
        "outputId": "cbdf104c-e354-4034-bebe-b90bd3cc8bec"
      },
      "outputs": [
        {
          "data": {
            "text/plain": [
              "0.2561455796525246"
            ]
          },
          "execution_count": 110,
          "metadata": {},
          "output_type": "execute_result"
        }
      ],
      "source": [
        "#random forest\n",
        "MSE=metrics.mean_squared_error(y_test,p3)\n",
        "np.sqrt(MSE)"
      ]
    },
    {
      "cell_type": "markdown",
      "metadata": {
        "id": "ObYw5EsAGWvN"
      },
      "source": [
        "**Save the model**"
      ]
    },
    {
      "cell_type": "code",
      "execution_count": 112,
      "metadata": {
        "id": "28JAfh0uGehN"
      },
      "outputs": [],
      "source": [
        "import pickle\n",
        "pickle.dump(rand,open('model.pkl','wb'))\n",
        "pickle.dump(scale,open(\"encoder.pk1\",'wb'))"
      ]
    },
    {
      "cell_type": "code",
      "execution_count": 117,
      "metadata": {},
      "outputs": [
        {
          "name": "stdout",
          "output_type": "stream",
          "text": [
            "holiday     object\n",
            "temp       float64\n",
            "rain       float64\n",
            "snow       float64\n",
            "weather     object\n",
            "date        object\n",
            "Time        object\n",
            "dtype: object\n",
            "                     holiday    temp  rain  snow weather                 date  \\\n",
            "0               Memorial Day  290.00   0.0   0.0   Clear  2012-02-10 00:00:00   \n",
            "1              New Years Day  291.00   0.0   0.0  Clouds  2012-02-10 00:00:00   \n",
            "2  Martin Luther King Jr Day  292.00   0.0   0.0    Rain  2012-02-10 00:00:00   \n",
            "3           Independence Day  288.28   0.0   0.0  Clouds           02-10-2012   \n",
            "4              New Years Eve  289.36   0.0   0.0  Clouds           02-10-2012   \n",
            "\n",
            "       Time  \n",
            "0  15:23:59  \n",
            "1  01:45:59  \n",
            "2  06:59:59  \n",
            "3  09:00:00  \n",
            "4  10:00:00  \n"
          ]
        }
      ],
      "source": [
        "import pandas as pd\n",
        "\n",
        "# Load dataset\n",
        "data = pd.read_csv('traffic_volume.csv')\n",
        "\n",
        "# Separate features\n",
        "X = data.drop('traffic_volume', axis=1)\n",
        "\n",
        "# Check data types of each column\n",
        "print(X.dtypes)\n",
        "\n",
        "# Display first few rows for inspection\n",
        "print(X.head())\n"
      ]
    },
    {
      "cell_type": "code",
      "execution_count": null,
      "metadata": {},
      "outputs": [
        {
          "name": "stdout",
          "output_type": "stream",
          "text": [
            "Model R2 Score: nan\n"
          ]
        },
        {
          "name": "stderr",
          "output_type": "stream",
          "text": [
            "c:\\Users\\anjal\\AppData\\Local\\Programs\\Python\\Python311\\Lib\\site-packages\\sklearn\\metrics\\_regression.py:1285: UndefinedMetricWarning: R^2 score is not well-defined with less than two samples.\n",
            "  warnings.warn(msg, UndefinedMetricWarning)\n"
          ]
        },
        {
          "data": {
            "text/plain": [
              "['columns.pkl']"
            ]
          },
          "execution_count": 124,
          "metadata": {},
          "output_type": "execute_result"
        }
      ],
      "source": [
        "import pandas as pd\n",
        "import numpy as np\n",
        "import joblib\n",
        "from sklearn.ensemble import RandomForestRegressor\n",
        "from sklearn.preprocessing import StandardScaler, MinMaxScaler\n",
        "from sklearn.model_selection import train_test_split\n",
        "\n",
        "# Load data\n",
        "data = pd.read_csv('traffic_volume.csv')\n",
        "\n",
        "# Convert date column to datetime\n",
        "data['date'] = pd.to_datetime(data['date'], errors='coerce')\n",
        "\n",
        "# Drop rows with invalid dates if any\n",
        "data = data.dropna(subset=['date'])\n",
        "\n",
        "# Extract date features\n",
        "data['year'] = data['date'].dt.year\n",
        "data['month'] = data['date'].dt.month\n",
        "data['day'] = data['date'].dt.day\n",
        "\n",
        "# Split Time into hours, minutes, seconds\n",
        "data[['hours','minutes','seconds']] = data['Time'].str.split(':', expand=True).astype(int)\n",
        "\n",
        "# Drop original date and Time columns\n",
        "data.drop(['date','Time'], axis=1, inplace=True)\n",
        "\n",
        "# Encode categorical features\n",
        "data = pd.get_dummies(data, columns=['holiday','weather'], drop_first=True)\n",
        "\n",
        "# Separate features and target\n",
        "X = data.drop('traffic_volume', axis=1)\n",
        "y = data['traffic_volume']\n",
        "\n",
        "# Feature scaling\n",
        "scaler_X = StandardScaler()\n",
        "X_scaled = scaler_X.fit_transform(X)\n",
        "\n",
        "# Target scaling\n",
        "scaler_y = MinMaxScaler()\n",
        "y_scaled = scaler_y.fit_transform(y.values.reshape(-1,1)).flatten()\n",
        "\n",
        "# Split data\n",
        "X_train, X_test, y_train, y_test = train_test_split(X_scaled, y_scaled, test_size=0.2, random_state=42)\n",
        "\n",
        "# Train model\n",
        "model = RandomForestRegressor(n_estimators=100, random_state=42)\n",
        "model.fit(X_train, y_train)\n",
        "\n",
        "# Evaluate\n",
        "score = model.score(X_test, y_test)\n",
        "print(f\"Model R2 Score: {score}\")\n",
        "\n",
        "# Save model and scalers\n",
        "joblib.dump(model, 'model.pkl')\n",
        "joblib.dump(scaler_X, 'encoder.pkl')\n",
        "\n",
        "joblib.dump(scaler_y, 'target_scaler.pkl')\n",
        "\n",
        "# Save column order for Flask input alignment\n",
        "joblib.dump(X.columns.tolist(), 'columns.pkl')\n"
      ]
    }
  ],
  "metadata": {
    "colab": {
      "provenance": []
    },
    "kernelspec": {
      "display_name": "Python 3",
      "name": "python3"
    },
    "language_info": {
      "codemirror_mode": {
        "name": "ipython",
        "version": 3
      },
      "file_extension": ".py",
      "mimetype": "text/x-python",
      "name": "python",
      "nbconvert_exporter": "python",
      "pygments_lexer": "ipython3",
      "version": "3.11.9"
    }
  },
  "nbformat": 4,
  "nbformat_minor": 0
}
